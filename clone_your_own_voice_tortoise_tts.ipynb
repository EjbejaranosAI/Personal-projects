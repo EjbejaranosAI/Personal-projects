{
  "nbformat": 4,
  "nbformat_minor": 0,
  "metadata": {
    "colab": {
      "provenance": [],
      "collapsed_sections": [
        "OvQqgdXMINpN",
        "vF1d-My9IXXt",
        "MHMmgcVwJdaT"
      ],
      "toc_visible": true,
      "include_colab_link": true
    },
    "kernelspec": {
      "name": "python3",
      "display_name": "Python 3"
    },
    "language_info": {
      "name": "python"
    },
    "accelerator": "GPU",
    "gpuClass": "standard"
  },
  "cells": [
    {
      "cell_type": "markdown",
      "metadata": {
        "id": "view-in-github",
        "colab_type": "text"
      },
      "source": [
        "<a href=\"https://colab.research.google.com/github/EjbejaranosAI/Personal-projects/blob/main/clone_your_own_voice_tortoise_tts.ipynb\" target=\"_parent\"><img src=\"https://colab.research.google.com/assets/colab-badge.svg\" alt=\"Open In Colab\"/></a>"
      ]
    },
    {
      "cell_type": "markdown",
      "source": [
        "# Install Packages"
      ],
      "metadata": {
        "id": "OvQqgdXMINpN"
      }
    },
    {
      "cell_type": "code",
      "source": [
        "!pip3 install -U scipy\n",
        "\n",
        "!git clone https://github.com/jnordberg/tortoise-tts.git\n",
        "%cd tortoise-tts\n",
        "!pip3 install transformers==4.19.0\n",
        "!pip3 install -r requirements.txt\n",
        "!python3 setup.py install\n",
        "\n",
        "import torch\n",
        "import torchaudio\n",
        "import torch.nn as nn\n",
        "import torch.nn.functional as F\n",
        "\n",
        "import IPython\n",
        "\n",
        "from tortoise.api import TextToSpeech\n",
        "from tortoise.utils.audio import load_audio, load_voice, load_voices\n",
        "\n",
        "tts = TextToSpeech()\n",
        "\n",
        "import os\n",
        "from google.colab import files"
      ],
      "metadata": {
        "id": "uC2qGJ0nITKW"
      },
      "execution_count": null,
      "outputs": []
    },
    {
      "cell_type": "markdown",
      "source": [
        "# EDIT output 'text' and 'preset' quality then RUN"
      ],
      "metadata": {
        "id": "vF1d-My9IXXt"
      }
    },
    {
      "cell_type": "code",
      "source": [
        "# This is the text that will be spoken.\n",
        "text = \"Let's strive to make the world a better place, one code block at a time.\"\n",
        "\n",
        "# Pick a \"preset mode\" to determine quality. Options: {\"ultra_fast\", \"fast\" (default), \"standard\", \"high_quality\"}. See docs in api.py\n",
        "preset = \"high_quality\"\n",
        "\n",
        "# upload at least 2 audio clips. They must be a WAV file, 6-10 seconds long.\n",
        "CUSTOM_VOICE_NAME = \"custom\"\n",
        "\n",
        "custom_voice_folder = f\"tortoise/voices/{CUSTOM_VOICE_NAME}\"\n",
        "os.makedirs(custom_voice_folder)\n",
        "for i, file_data in enumerate(files.upload().values()):\n",
        "  with open(os.path.join(custom_voice_folder, f'{i}.wav'), 'wb') as f:\n",
        "    f.write(file_data)"
      ],
      "metadata": {
        "id": "4N9LSJ24IqOp"
      },
      "execution_count": null,
      "outputs": []
    },
    {
      "cell_type": "markdown",
      "source": [
        "# Generate Audio File (clone voice) 👌"
      ],
      "metadata": {
        "id": "MHMmgcVwJdaT"
      }
    },
    {
      "cell_type": "code",
      "source": [
        "# Generate speech\n",
        "voice_samples, conditioning_latents = load_voice(CUSTOM_VOICE_NAME)\n",
        "gen = tts.tts_with_preset(text, voice_samples=voice_samples, conditioning_latents=conditioning_latents, \n",
        "                          preset=preset)\n",
        "torchaudio.save(f'generated-{CUSTOM_VOICE_NAME}.wav', gen.squeeze(0).cpu(), 24000)\n",
        "IPython.display.Audio(f'generated-{CUSTOM_VOICE_NAME}.wav')"
      ],
      "metadata": {
        "id": "E-Wy_KAyJmTE"
      },
      "execution_count": null,
      "outputs": []
    }
  ]
}